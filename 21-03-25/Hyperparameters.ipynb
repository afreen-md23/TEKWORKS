{
  "nbformat": 4,
  "nbformat_minor": 0,
  "metadata": {
    "colab": {
      "provenance": []
    },
    "kernelspec": {
      "name": "python3",
      "display_name": "Python 3"
    },
    "language_info": {
      "name": "python"
    }
  },
  "cells": [
    {
      "cell_type": "markdown",
      "source": [
        "# **Hyperparameter Tuning in Machine Learning:**\n",
        "\n",
        "**Hyperparameter**:\n",
        "\n",
        "A hyperparameter is a decision you make before the model learns.\n",
        "\n",
        "It controls how the model learns, not what it learns.\n",
        "\n",
        "Think of it like this:\n",
        "\n",
        "In cooking:\n",
        "Recipe (hyperparameters): cooking time, oven temperature, spice levels.\n",
        "Outcome (parameters): flavor balance, crust texture — learned from ingredients and process.\n",
        "\n",
        "What are Hyperparameters?\n",
        "\n",
        "Hyperparameters are settings that control the learning process of a model.\n",
        "Unlike parameters (which are learned from the data), hyperparameters are set before training.\n",
        "\n",
        "Difference Between Parameters & Hyperparameters:\n",
        "\n",
        "**Parameters**: Learned by the model (e.g., weights in linear regression).\n",
        "\n",
        "**Hyperparameters**: Set manually before training (e.g., learning rate, number of trees in Random Forest).\n",
        "\n",
        "Example: Tuning a Decision Tree\n",
        "\n",
        "Imagine you are growing a tree:\n",
        "\n",
        "If the tree is too short (low depth), it won’t capture enough pattern"
      ],
      "metadata": {
        "id": "HJrnBA8r4iDi"
      }
    },
    {
      "cell_type": "markdown",
      "source": [
        "# **Grid Search:**\n",
        "\n",
        "Test every combination.\n",
        "\n",
        "Best for small search spaces.\n",
        "\n",
        "Slow but guaranteed to find the best option in the grid.\n",
        "\n",
        "**Grid Search – Real-Life Example:**\n",
        "\n",
        "Imagine buying a car:\n",
        "\n",
        "You list exact combinations:\n",
        "\n",
        "Brand: Toyota, Honda\n",
        "\n",
        "Color: Red, Black\n",
        "\n",
        "Fuel: Petrol, Diesel\n",
        "\n",
        "You check every single combination (Toyota-Red-Petrol, Toyota-Red-Diesel, etc.).\n",
        "It’s exhaustive but time-consuming.\n",
        "\n",
        "Perfect if you know exactly what features matter and can patiently evaluate each combo.\n",
        "\n",
        "\n",
        "# **Random Search**:\n",
        "\n",
        "Randomly selects combinations from the defined ranges.\n",
        "\n",
        "More efficient for large or complex search spaces.\n",
        "\n",
        "Often finds near-optimal solutions faster.\n",
        "\n",
        "Think: Creative explorer, sampling wild possibilities for hidden gold.\n",
        "\n",
        "**Random Search – Real-Life Example:**\n",
        "\n",
        "Imagine choosing a vacation spot:\n",
        "\n",
        "Instead of checking all countries, seasons, hotels, and activities,\n",
        "\n",
        "You spin a globe and shortlist random places, then look for deals.\n",
        "\n",
        "You might stumble upon an unexpectedly perfect destination.\n",
        "\n",
        "Ideal when possibilities are huge and you want serendipity with speed.\n",
        "\n",
        "\n",
        "\n",
        "**Challenge**: In innovation, when do you grid (precision) and when do you random (discovery)?\n"
      ],
      "metadata": {
        "id": "G-Cn6buB6pwZ"
      }
    },
    {
      "cell_type": "code",
      "source": [
        "import numpy as np\n",
        "import pandas as pd\n",
        "import matplotlib.pyplot as plt\n",
        "import seaborn as sns\n",
        "\n",
        "from sklearn.model_selection import train_test_split, GridSearchCV, RandomizedSearchCV\n",
        "from sklearn.ensemble import RandomForestClassifier\n",
        "from sklearn.metrics import accuracy_score, classification_report, confusion_matrix\n",
        "from sklearn.datasets import load_iris\n"
      ],
      "metadata": {
        "id": "pDUCRuHs4qE5"
      },
      "execution_count": 1,
      "outputs": []
    },
    {
      "cell_type": "markdown",
      "source": [
        "# **Load and Explore the dataset**"
      ],
      "metadata": {
        "id": "rFgYImwQ9CDQ"
      }
    },
    {
      "cell_type": "code",
      "source": [
        "# Load dataset (Replace 'your_dataset.csv' with actual filename)\n",
        "# df = pd.read_csv('your_dataset.csv')\n",
        "# df.head()\n",
        "\n",
        "df = load_iris()\n",
        "X= df.data\n",
        "y = df.target\n"
      ],
      "metadata": {
        "id": "Yf3IgBqe86ph"
      },
      "execution_count": 6,
      "outputs": []
    },
    {
      "cell_type": "markdown",
      "source": [
        "# **Define Hyperparameter Grid**"
      ],
      "metadata": {
        "id": "RZfETMb69KNo"
      }
    },
    {
      "cell_type": "code",
      "source": [
        "param_grid = {\n",
        "    'n_estimators': [10, 50, 100, 200],\n",
        "    'max_depth': [5, 10, 20, None],\n",
        "    'min_samples_split': [2, 5, 10],\n",
        "    'min_samples_leaf': [1, 2, 4]\n",
        "}\n",
        "# Split into training and testing sets (80-20 split)\n",
        "\n",
        "X_train, X_test, y_train, y_test = train_test_split(X, y, test_size=0.2, random_state=42)"
      ],
      "metadata": {
        "id": "nVbGSuiH9rOQ"
      },
      "execution_count": 7,
      "outputs": []
    },
    {
      "cell_type": "markdown",
      "source": [
        "# **Apply Grid Search CV**"
      ],
      "metadata": {
        "id": "5NPs2Ofh_Sof"
      }
    },
    {
      "cell_type": "code",
      "source": [
        "# Grid Search CV\n",
        "grid_search = GridSearchCV(RandomForestClassifier(), param_grid, cv=5, n_jobs=-1, verbose=1)\n",
        "grid_search.fit(X_train, y_train)\n",
        "\n",
        "# Get best parameters\n",
        "print('Best Parameters from Grid Search:', grid_search.best_params_)\n"
      ],
      "metadata": {
        "colab": {
          "base_uri": "https://localhost:8080/"
        },
        "id": "50fS3MZx_PyQ",
        "outputId": "42a980d2-e989-4b6e-f971-847079ec0ca7"
      },
      "execution_count": 8,
      "outputs": [
        {
          "output_type": "stream",
          "name": "stdout",
          "text": [
            "Fitting 5 folds for each of 144 candidates, totalling 720 fits\n",
            "Best Parameters from Grid Search: {'max_depth': 10, 'min_samples_leaf': 1, 'min_samples_split': 5, 'n_estimators': 10}\n"
          ]
        }
      ]
    },
    {
      "cell_type": "markdown",
      "source": [
        "# **Apply Randomized Search CV**"
      ],
      "metadata": {
        "id": "ECe5OQ0i__1_"
      }
    },
    {
      "cell_type": "code",
      "source": [
        "\n",
        "# Randomized Search CV\n",
        "random_search = RandomizedSearchCV(RandomForestClassifier(), param_grid,  n_iter=10,  cv=5,  n_jobs=-1,   verbose=1, random_state=42)\n",
        "random_search.fit(X_train, y_train)\n",
        "\n",
        "# Get best parameters\n",
        "print('Best Parameters from Random Search:', random_search.best_params_)\n"
      ],
      "metadata": {
        "colab": {
          "base_uri": "https://localhost:8080/"
        },
        "id": "WCCcC5UK_dt3",
        "outputId": "94ffc800-a3fb-428b-80de-6ed8e5ca7a47"
      },
      "execution_count": 9,
      "outputs": [
        {
          "output_type": "stream",
          "name": "stdout",
          "text": [
            "Fitting 5 folds for each of 10 candidates, totalling 50 fits\n",
            "Best Parameters from Random Search: {'n_estimators': 50, 'min_samples_split': 5, 'min_samples_leaf': 4, 'max_depth': 10}\n"
          ]
        }
      ]
    },
    {
      "cell_type": "markdown",
      "source": [
        "# **Evaluate Model Performance**"
      ],
      "metadata": {
        "id": "EoYBhJ7qAyS2"
      }
    },
    {
      "cell_type": "code",
      "source": [
        "\n",
        "\n",
        "# Train models with best parameters\n",
        "best_grid_model = grid_search.best_estimator_\n",
        "best_random_model = random_search.best_estimator_\n",
        "\n",
        "# Predictions\n",
        "y_pred_grid = best_grid_model.predict(X_test)\n",
        "y_pred_random = best_random_model.predict(X_test)\n",
        "\n",
        "# Accuracy Scores\n",
        "acc_grid = accuracy_score(y_test, y_pred_grid)\n",
        "acc_random = accuracy_score(y_test, y_pred_random)\n",
        "\n",
        "print(f'Grid Search Accuracy: {acc_grid:.2f}')\n",
        "print(f'Random Search Accuracy: {acc_random:.2f}')\n"
      ],
      "metadata": {
        "colab": {
          "base_uri": "https://localhost:8080/"
        },
        "id": "8agpD8sBAvZf",
        "outputId": "9b527cf6-6571-4910-ee52-2e213aba8ef6"
      },
      "execution_count": 10,
      "outputs": [
        {
          "output_type": "stream",
          "name": "stdout",
          "text": [
            "Grid Search Accuracy: 1.00\n",
            "Random Search Accuracy: 1.00\n"
          ]
        }
      ]
    }
  ]
}