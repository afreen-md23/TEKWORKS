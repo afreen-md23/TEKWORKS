{
 "cells": [
  {
   "cell_type": "code",
   "execution_count": 1,
   "id": "a367e93c",
   "metadata": {},
   "outputs": [
    {
     "name": "stdout",
     "output_type": "stream",
     "text": [
      "Requirement already satisfied: numpy in c:\\users\\cvr\\anaconda3\\lib\\site-packages (1.24.3)\n"
     ]
    }
   ],
   "source": [
    "!pip install numpy"
   ]
  },
  {
   "cell_type": "code",
   "execution_count": 2,
   "id": "bd923339",
   "metadata": {},
   "outputs": [],
   "source": [
    "import numpy as np"
   ]
  },
  {
   "cell_type": "code",
   "execution_count": 3,
   "id": "12a2b8dd",
   "metadata": {},
   "outputs": [
    {
     "name": "stdout",
     "output_type": "stream",
     "text": [
      "[1 2 3]\n"
     ]
    }
   ],
   "source": [
    "#1D Array \n",
    "arr_1d=np.array([1,2,3])\n",
    "print(arr_1d)"
   ]
  },
  {
   "cell_type": "code",
   "execution_count": 4,
   "id": "28ba0ab7",
   "metadata": {},
   "outputs": [
    {
     "name": "stdout",
     "output_type": "stream",
     "text": [
      "[[1 2 3]\n",
      " [4 5 6]]\n"
     ]
    }
   ],
   "source": [
    "#2D Array \n",
    "arr_2d=np.array([[1,2,3],[4,5,6]])\n",
    "print(arr_2d)"
   ]
  },
  {
   "cell_type": "code",
   "execution_count": 5,
   "id": "683dff19",
   "metadata": {},
   "outputs": [
    {
     "name": "stdout",
     "output_type": "stream",
     "text": [
      "[[0. 0. 0.]\n",
      " [0. 0. 0.]]\n"
     ]
    }
   ],
   "source": [
    "#Array of Zeros \n",
    "zeros=np.zeros((2,3))\n",
    "print(zeros)"
   ]
  },
  {
   "cell_type": "code",
   "execution_count": 6,
   "id": "d2f9de10",
   "metadata": {},
   "outputs": [
    {
     "name": "stdout",
     "output_type": "stream",
     "text": [
      "[[1. 1. 1.]\n",
      " [1. 1. 1.]\n",
      " [1. 1. 1.]]\n"
     ]
    }
   ],
   "source": [
    "#Array of ones \n",
    "ones =np.ones((3,3))\n",
    "print(ones)"
   ]
  },
  {
   "cell_type": "code",
   "execution_count": 8,
   "id": "66646fdc",
   "metadata": {},
   "outputs": [
    {
     "name": "stdout",
     "output_type": "stream",
     "text": [
      "[[0.04458464 0.06430053 0.72207506]\n",
      " [0.85383019 0.90379553 0.73910294]\n",
      " [0.56009747 0.59202858 0.98156564]\n",
      " [0.35406519 0.09592016 0.64905775]]\n"
     ]
    }
   ],
   "source": [
    "#Array of random values \n",
    "random_arr =np.random.random((4,3))\n",
    "print(random_arr)"
   ]
  },
  {
   "cell_type": "code",
   "execution_count": 12,
   "id": "15f7bc70",
   "metadata": {},
   "outputs": [
    {
     "name": "stdout",
     "output_type": "stream",
     "text": [
      "[[1. 0. 0.]\n",
      " [0. 1. 0.]\n",
      " [0. 0. 1.]]\n"
     ]
    }
   ],
   "source": [
    "#Identity matrix \n",
    "identity=np.eye(3)\n",
    "print(identity)"
   ]
  },
  {
   "cell_type": "code",
   "execution_count": 13,
   "id": "c7fae5ea",
   "metadata": {},
   "outputs": [
    {
     "name": "stdout",
     "output_type": "stream",
     "text": [
      "[0 2 4 6 8]\n"
     ]
    }
   ],
   "source": [
    "#Array with a rangeof values \n",
    "range_arr =np.arange(0,10,2)\n",
    "print(range_arr)"
   ]
  },
  {
   "cell_type": "code",
   "execution_count": 15,
   "id": "c44e8a47",
   "metadata": {},
   "outputs": [
    {
     "name": "stdout",
     "output_type": "stream",
     "text": [
      "Shape : (2, 3)\n",
      "Size : 6\n",
      "Data Types : int32\n",
      "Number of dimensions :  2\n"
     ]
    }
   ],
   "source": [
    "#Array Attributes \n",
    "arr=np.array([[1,2,3],[4,5,6]])\n",
    "print(\"Shape :\" ,arr.shape) \n",
    "print(\"Size :\" ,arr.size)\n",
    "print(\"Data Types :\" , arr.dtype) \n",
    "print(\"Number of dimensions : \" ,arr.ndim)"
   ]
  },
  {
   "cell_type": "code",
   "execution_count": 16,
   "id": "d4d42d6f",
   "metadata": {},
   "outputs": [
    {
     "data": {
      "text/plain": [
       "2"
      ]
     },
     "execution_count": 16,
     "metadata": {},
     "output_type": "execute_result"
    }
   ],
   "source": [
    "arr[0,1]"
   ]
  },
  {
   "cell_type": "code",
   "execution_count": 17,
   "id": "a403174f",
   "metadata": {},
   "outputs": [
    {
     "data": {
      "text/plain": [
       "6"
      ]
     },
     "execution_count": 17,
     "metadata": {},
     "output_type": "execute_result"
    }
   ],
   "source": [
    "arr[1,2]"
   ]
  },
  {
   "cell_type": "code",
   "execution_count": 18,
   "id": "d5825b14",
   "metadata": {},
   "outputs": [
    {
     "data": {
      "text/plain": [
       "6"
      ]
     },
     "execution_count": 18,
     "metadata": {},
     "output_type": "execute_result"
    }
   ],
   "source": [
    "arr[1,-1]"
   ]
  },
  {
   "cell_type": "code",
   "execution_count": 25,
   "id": "6db80759",
   "metadata": {},
   "outputs": [
    {
     "data": {
      "text/plain": [
       "array([[2, 3],\n",
       "       [5, 6]])"
      ]
     },
     "execution_count": 25,
     "metadata": {},
     "output_type": "execute_result"
    }
   ],
   "source": [
    "arr[0:3,1:3]"
   ]
  },
  {
   "cell_type": "code",
   "execution_count": 26,
   "id": "f14aaf57",
   "metadata": {},
   "outputs": [
    {
     "data": {
      "text/plain": [
       "array([[2, 3],\n",
       "       [5, 6]])"
      ]
     },
     "execution_count": 26,
     "metadata": {},
     "output_type": "execute_result"
    }
   ],
   "source": [
    "arr[:,1:]"
   ]
  },
  {
   "cell_type": "code",
   "execution_count": 34,
   "id": "69aea861",
   "metadata": {},
   "outputs": [
    {
     "name": "stdout",
     "output_type": "stream",
     "text": [
      "Addition :  [10  8 10]\n",
      "Multiplication :  [ 9 12 21]\n"
     ]
    }
   ],
   "source": [
    "arr_1=np.array([1,2,3])\n",
    "arr_2=np.array([9,6,7])\n",
    "\n",
    "print(\"Addition : \" ,arr_1 + arr_2)\n",
    "print(\"Multiplication : \" ,arr_1 * arr_2)"
   ]
  },
  {
   "cell_type": "code",
   "execution_count": 40,
   "id": "25864d0d",
   "metadata": {},
   "outputs": [
    {
     "name": "stdout",
     "output_type": "stream",
     "text": [
      "Product :  [[ 30  24  18]\n",
      " [ 84  69  54]\n",
      " [138 114  90]]\n"
     ]
    }
   ],
   "source": [
    "a=np.array([[1,2,3],[4,5,6] ,[7,8,9]])\n",
    "\n",
    "b=np.array([[9,8,7],[6,5,4],[3,2,1]])\n",
    " \n",
    "# method to print Multiplication in 2D or 3D\n",
    "result=np.dot(a,b)\n",
    "print(\"Product : \" ,result) "
   ]
  },
  {
   "cell_type": "code",
   "execution_count": 42,
   "id": "ccb8909a",
   "metadata": {},
   "outputs": [],
   "source": [
    "import matplotlib.pyplot as plt "
   ]
  },
  {
   "cell_type": "code",
   "execution_count": 46,
   "id": "592438c6",
   "metadata": {},
   "outputs": [
    {
     "data": {
      "image/png": "[encoded data removed]",
      "text/plain": [
       "<Figure size 640x480 with 1 Axes>"
      ]
     },
     "metadata": {},
     "output_type": "display_data"
    }
   ],
   "source": [
    "plt.plot(result)\n",
    "plt.show()"
   ]
  },
  {
   "cell_type": "code",
   "execution_count": 49,
   "id": "5b761188",
   "metadata": {},
   "outputs": [
    {
     "name": "stdout",
     "output_type": "stream",
     "text": [
      "expo : [ 2.71828183  7.3890561  20.08553692]\n",
      "sqrt : [1.         1.41421356 1.73205081]\n",
      "log : [0.         0.69314718 1.09861229]\n"
     ]
    }
   ],
   "source": [
    "a=np.array([1,2,3])\n",
    "\n",
    "#UNIVERSAL FUNCTIONS\n",
    "\n",
    "#Exponentiation \n",
    "print(\"expo :\" ,np.exp(a))\n",
    "\n",
    "#square root \n",
    "print( \"sqrt :\" ,np.sqrt(a))\n",
    "\n",
    "#Logarithm \n",
    "print( \"log :\" ,np.log(a))\n"
   ]
  },
  {
   "cell_type": "code",
   "execution_count": 51,
   "id": "f8894a65",
   "metadata": {},
   "outputs": [
    {
     "name": "stdout",
     "output_type": "stream",
     "text": [
      "Sum :  26\n",
      "Mean :  4.333333333333333\n",
      "Standard Deviation :  2.8087165910587863\n",
      "Max :  9\n",
      "Min :  1\n"
     ]
    }
   ],
   "source": [
    "#agrigate functions \n",
    "a=np.array([1,2,3,9,7,4]) \n",
    "print(\"Sum : \" , np.sum(a))\n",
    "print(\"Mean : \" , np.mean(a))\n",
    "print(\"Standard Deviation : \" , np.std(a))\n",
    "print(\"Max : \" , np.max(a))\n",
    "print(\"Min : \" , np.min(a))\n"
   ]
  },
  {
   "cell_type": "code",
   "execution_count": 52,
   "id": "e3cc734c",
   "metadata": {},
   "outputs": [
    {
     "name": "stdout",
     "output_type": "stream",
     "text": [
      "[[1 2 3]\n",
      " [4 5 6]]\n"
     ]
    }
   ],
   "source": [
    "#Reshaping Arrays \n",
    "a =np.array([1,2,3,4,5,6])\n",
    "reshaped=a.reshape(2,3)\n",
    "print(reshaped)"
   ]
  },
  {
   "cell_type": "code",
   "execution_count": 55,
   "id": "7a34c1e2",
   "metadata": {},
   "outputs": [
    {
     "name": "stdout",
     "output_type": "stream",
     "text": [
      "vertical : [[1 2]\n",
      " [3 4]]\n",
      "Horizontal :  [1 2 3 4]\n"
     ]
    }
   ],
   "source": [
    "#STACKING \n",
    "\n",
    "a=np.array([1,2])\n",
    "b=np.array([3,4])\n",
    "\n",
    "#vertical stack \n",
    "print('vertical :' ,np.vstack((a,b)))\n",
    "\n",
    "#Horizontal stack \n",
    "print('Horizontal : ' ,np.hstack((a,b)))"
   ]
  },
  {
   "cell_type": "code",
   "execution_count": 57,
   "id": "9b6acd2c",
   "metadata": {},
   "outputs": [
    {
     "name": "stdout",
     "output_type": "stream",
     "text": [
      "[array([1, 2]), array([3, 4]), array([5, 6])]\n"
     ]
    }
   ],
   "source": [
    "#Splitting \n",
    "\n",
    "a=np.array([1,2,3,4,5,6])\n",
    "\n",
    "#split into three parts\n",
    "print(np.array_split(a,3))"
   ]
  },
  {
   "cell_type": "code",
   "execution_count": 59,
   "id": "8f19d1c6",
   "metadata": {},
   "outputs": [
    {
     "name": "stdout",
     "output_type": "stream",
     "text": [
      "[10  2  3]\n",
      "[10  2  3]\n"
     ]
    }
   ],
   "source": [
    "#Copy and View \n",
    "\n",
    "#view shares memory\n",
    "a=np.array([1,2,3])\n",
    "view =a.view()\n",
    "view[0]=10 #it can replace the value with the help of index\n",
    "print(a)\n",
    "\n",
    "#copy does not share the memory \n",
    "copy=a.copy()\n",
    "copy[0]=10\n",
    "print(a)"
   ]
  },
  {
   "cell_type": "code",
   "execution_count": 63,
   "id": "29c6122d",
   "metadata": {},
   "outputs": [
    {
     "name": "stdout",
     "output_type": "stream",
     "text": [
      "[1 3 6]\n"
     ]
    }
   ],
   "source": [
    "#Saving and Loading \n",
    "\n",
    "#a) save to a file \n",
    "a=np.array([1,3,6])\n",
    "np.save('array.npy',a)\n",
    "\n",
    "#b) Load from file \n",
    "loaded_arr=np.load('array.npy')\n",
    "print(loaded_arr)"
   ]
  },
  {
   "cell_type": "code",
   "execution_count": null,
   "id": "7fe0d837",
   "metadata": {},
   "outputs": [],
   "source": []
  }
 ],
 "metadata": {
  "kernelspec": {
   "display_name": "Python 3 (ipykernel)",
   "language": "python",
   "name": "python3"
  },
  "language_info": {
   "codemirror_mode": {
    "name": "ipython",
    "version": 3
   },
   "file_extension": ".py",
   "mimetype": "text/x-python",
   "name": "python",
   "nbconvert_exporter": "python",
   "pygments_lexer": "ipython3",
   "version": "3.11.5"
  }
 },
 "nbformat": 4,
 "nbformat_minor": 5
}
